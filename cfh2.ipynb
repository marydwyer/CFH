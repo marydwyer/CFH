{
 "cells": [
  {
   "cell_type": "code",
   "execution_count": 1,
   "metadata": {
    "collapsed": true
   },
   "outputs": [],
   "source": [
    "import pandas as pd\n",
    "import numpy as np"
   ]
  },
  {
   "cell_type": "code",
   "execution_count": 3,
   "metadata": {},
   "outputs": [
    {
     "name": "stdout",
     "output_type": "stream",
     "text": [
      "   PARTICIPANT UNIQUE IDENTIFIER  \\\n",
      "0                          10925   \n",
      "1                          11197   \n",
      "2                          11266   \n",
      "3                          11382   \n",
      "4                          11446   \n",
      "\n",
      "  DOES THE CLIENT HAVE A HISTORY OF HOMELESSNESS  \\\n",
      "0                                             No   \n",
      "1                                            Yes   \n",
      "2                                            Yes   \n",
      "3                                             No   \n",
      "4                                             No   \n",
      "\n",
      "   HOW MANY TIMES HOMELESS. LEAVE BLANK IF ZERO. GENDER HUD  \\\n",
      "0                                            NaN       Male   \n",
      "1                                            6.0     Female   \n",
      "2                                            1.0     Female   \n",
      "3                                            NaN     Female   \n",
      "4                                            NaN       Male   \n",
      "\n",
      "  RACE CHECK ALL THAT APPLY_NCI VETERAN_NCI  \\\n",
      "0                         White          No   \n",
      "1     Black or African-American          No   \n",
      "2               Hispanic/Latino          No   \n",
      "3     Black or African-American          No   \n",
      "4                         White          No   \n",
      "\n",
      "                                   FAMILY TYPE_NCI  NUMBER OF CHILDREN_NCI  \\\n",
      "0                                  Individual Male                     0.0   \n",
      "1                                Individual Female                     0.0   \n",
      "2  Single Parent Family (Female Head of Household)                     1.0   \n",
      "3                                Individual Female                     0.0   \n",
      "4                                Two Parent Family                     1.0   \n",
      "\n",
      "  AGES OF CHILDREN CHECK ALL THAT APPLY_NCI  \\\n",
      "0                                       NaN   \n",
      "1                                       NaN   \n",
      "2                                        13   \n",
      "3                                       NaN   \n",
      "4                                        12   \n",
      "\n",
      "   ADULTS IN FAMILY INCLUDE CLIENT_NCI    ...     ALIMONY15294_FOLLOWUP  \\\n",
      "0                                  1.0    ...                       NaN   \n",
      "1                                  1.0    ...                       NaN   \n",
      "2                                  1.0    ...                       NaN   \n",
      "3                                  1.0    ...                       NaN   \n",
      "4                                  2.0    ...                       NaN   \n",
      "\n",
      "   OTHERINCOMESOURCE15295_FOLLOWUP  TOTALMONTHLYINCOME15297_FOLLOWUP  \\\n",
      "0                              NaN                               NaN   \n",
      "1                              NaN                           1200.00   \n",
      "2                              NaN                               NaN   \n",
      "3                              NaN                               NaN   \n",
      "4                              NaN                           1670.76   \n",
      "\n",
      "  OTHERSOURCEAMOUNT15296_FOLLOWUP  \\\n",
      "0                             NaN   \n",
      "1                             NaN   \n",
      "2                             NaN   \n",
      "3                             NaN   \n",
      "4                             NaN   \n",
      "\n",
      "  IF CLIENT RECEIVES PUBLIC ASSISTANCE WHAT IS HISHER CASE PLEASE NOTE IF UNSURE  \\\n",
      "0                                                NaN                               \n",
      "1                                                NaN                               \n",
      "2                                                NaN                               \n",
      "3                                                NaN                               \n",
      "4                                                NaN                               \n",
      "\n",
      "                   BENEFITSSOURCECODE15298_FOLLOWUP FOODSTAMP15299_FOLLOWUP  \\\n",
      "0                                               NaN                     NaN   \n",
      "1  Food stamps or money for food or a benefits card                   194.0   \n",
      "2                                               NaN                     NaN   \n",
      "3                                               NaN                     NaN   \n",
      "4  Food stamps or money for food or a benefits card                   190.0   \n",
      "\n",
      "  IS A 3RD PARTY INVOLVED_FOLLOWUP 3RD PARTY MONTHLY CONTRIBUTION TO CLIENT  \\\n",
      "0                              NaN                                      NaN   \n",
      "1                               No                                      NaN   \n",
      "2                              NaN                                      NaN   \n",
      "3                              NaN                                      NaN   \n",
      "4                               No                                      NaN   \n",
      "\n",
      "  FOLLOWEDUP  \n",
      "0          0  \n",
      "1          1  \n",
      "2          0  \n",
      "3          0  \n",
      "4          1  \n",
      "\n",
      "[5 rows x 130 columns]\n"
     ]
    }
   ],
   "source": [
    "#import data set \n",
    "trainingData = pd.read_csv('cfh.csv', index_col=0)\n",
    "print(trainingData.head())"
   ]
  },
  {
   "cell_type": "code",
   "execution_count": null,
   "metadata": {
    "collapsed": true
   },
   "outputs": [],
   "source": [
    "# TO DO:\n",
    "# Make a list of all of the features with categorical data. \n",
    "# Make a list of all of the categories within the features (2D list - Every feature has its own list of categories). \n",
    "# Iterate through the lists and replace the categories with integers. \n",
    "# Perform Sci-kit Learn One-Hot Encoder.\n",
    "# SVM Classifier\n",
    "\n",
    "features = ['DOES THE CLIENT HAVE A HISTORY OF HOMELESSNESS','GENDER HUD','RACE CHECK ALL THAT APPLY_NCI',\\\n",
    "            'VETERAN_NCI','FAMILY TYPE_NCI','POST EVICT_NCI','REASON THE CLIENT FELL INTO ARREARS_NCI',\\\n",
    "           'CHECK OFF ANY HOUSING SUBSIDIES THAT CLIENT MAY BE RECEIVING_NCI','TYPE OF HOUSING WHERE CLIENT RESIDES_NCI',\\\n",
    "           'CURRENT BOROUGH','DISABLINGCONDITIONS15237_NCI','PHYSICALDISABILITY15238_NCI','DEVELOPMENTALDISABILITY15239_NCI',\\\n",
    "           'HIVAIDSSTATUS15240_NCI','MENTALHEALTHPROBLEM15241_NCI','SUBSTANCEABUSEPROBLEM15243_NCI','EVER RECEIVED TREATMENT FOR MENTAL HEALTH_NCI',\\\n",
    "           'CURRENTLY IN TREATMENT FOR SUBSTANCE USEDEPENDENCE_NCI','EVER RECEIVED TREATMENT FOR SUBSTANCE USEDEPENDENCE_NCI','DOMESTICVIOLENCE15245_NCI',\\\n",
    "           'CURRENTLY IN DV SITUATION_NCI','PREGNANCYSTATUS15247_NCI','HIGHESTSCHOOLLEVEL15257_x','BENEFITSSOURCECODE15298_NCI',\\\n",
    "           'OTHERNONCASHSOURCE15300','IS A 3RD PARTY INVOLVED_NCI','CURRENTLYEMPLOYED15251_NCI''EMPLOYMENT IS CONSIDERED_NCI',\\\n",
    "           'EMPLOYMENTTENURE15253','LOOKINGFORWORK15254','EDUCATIONALVOCATIONALTRAINING15256','EDUCATIONALVOCATIONALTRAINING15256',\\\n",
    "           'HIGHESTSCHOOLLEVEL15257_y','DEGREECODE15258_NCI','INCOMEBENEFITTYPE15279_NCI','INCOMESOURCECODE15280_NCI']\n",
    "categories "
   ]
  }
 ],
 "metadata": {
  "kernelspec": {
   "display_name": "Python 3",
   "language": "python",
   "name": "python3"
  },
  "language_info": {
   "codemirror_mode": {
    "name": "ipython",
    "version": 3
   },
   "file_extension": ".py",
   "mimetype": "text/x-python",
   "name": "python",
   "nbconvert_exporter": "python",
   "pygments_lexer": "ipython3",
   "version": "3.6.1"
  }
 },
 "nbformat": 4,
 "nbformat_minor": 2
}
